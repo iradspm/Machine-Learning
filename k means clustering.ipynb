{
 "cells": [
  {
   "cell_type": "code",
   "execution_count": 1,
   "id": "da21d7dc",
   "metadata": {},
   "outputs": [],
   "source": [
    "import pandas as pd\n",
    "import numpy as np\n",
    "import matplotlib.pyplot as plt\n",
    "import seaborn as sns"
   ]
  },
  {
   "cell_type": "code",
   "execution_count": 3,
   "id": "459b54e7",
   "metadata": {},
   "outputs": [],
   "source": [
    "data = {\n",
    "    \"Person 1\":[167,55],\n",
    "    \"Person 2\":[120,32],\n",
    "    \"Person 3\":[113,33],\n",
    "    \"Person 4\":[175,76],\n",
    "    \"Person 4\":[108,25]\n",
    "}"
   ]
  },
  {
   "cell_type": "code",
   "execution_count": 4,
   "id": "7819d884",
   "metadata": {},
   "outputs": [
    {
     "data": {
      "text/plain": [
       "{'Person 1': [167, 55],\n",
       " 'Person 2': [120, 32],\n",
       " 'Person 3': [113, 33],\n",
       " 'Person 4': [108, 25]}"
      ]
     },
     "execution_count": 4,
     "metadata": {},
     "output_type": "execute_result"
    }
   ],
   "source": [
    "data"
   ]
  },
  {
   "cell_type": "code",
   "execution_count": 5,
   "id": "c5108cc9",
   "metadata": {},
   "outputs": [
    {
     "data": {
      "text/plain": [
       "Person 1    [167, 55]\n",
       "Person 2    [120, 32]\n",
       "Person 3    [113, 33]\n",
       "Person 4    [108, 25]\n",
       "dtype: object"
      ]
     },
     "execution_count": 5,
     "metadata": {},
     "output_type": "execute_result"
    }
   ],
   "source": [
    "pd.Series(data)"
   ]
  },
  {
   "cell_type": "code",
   "execution_count": 11,
   "id": "6eff2238",
   "metadata": {},
   "outputs": [],
   "source": [
    "persons =[\"Person 1\",\"Person 2\",\"Person 3\",\"Person 4\",\"Person 5\"]\n",
    "height =[167,120,113,175,108]\n",
    "weight=[55,32,33,76,25]"
   ]
  },
  {
   "cell_type": "code",
   "execution_count": 12,
   "id": "fca6a91a",
   "metadata": {},
   "outputs": [],
   "source": [
    "p=pd.Series(persons)\n",
    "h=pd.Series(height)\n",
    "w=pd.Series(weight)"
   ]
  },
  {
   "cell_type": "code",
   "execution_count": 13,
   "id": "0b027a6c",
   "metadata": {},
   "outputs": [],
   "source": [
    "frame= {\"Persons\":p,\"Height\":h,\"Weight\":w}\n",
    "r=pd.DataFrame(frame)"
   ]
  },
  {
   "cell_type": "code",
   "execution_count": 19,
   "id": "4c5ce916",
   "metadata": {},
   "outputs": [
    {
     "data": {
      "text/html": [
       "<div>\n",
       "<style scoped>\n",
       "    .dataframe tbody tr th:only-of-type {\n",
       "        vertical-align: middle;\n",
       "    }\n",
       "\n",
       "    .dataframe tbody tr th {\n",
       "        vertical-align: top;\n",
       "    }\n",
       "\n",
       "    .dataframe thead th {\n",
       "        text-align: right;\n",
       "    }\n",
       "</style>\n",
       "<table border=\"1\" class=\"dataframe\">\n",
       "  <thead>\n",
       "    <tr style=\"text-align: right;\">\n",
       "      <th></th>\n",
       "      <th>Persons</th>\n",
       "      <th>Height</th>\n",
       "      <th>Weight</th>\n",
       "    </tr>\n",
       "  </thead>\n",
       "  <tbody>\n",
       "    <tr>\n",
       "      <th>0</th>\n",
       "      <td>Person 1</td>\n",
       "      <td>167</td>\n",
       "      <td>55</td>\n",
       "    </tr>\n",
       "    <tr>\n",
       "      <th>1</th>\n",
       "      <td>Person 2</td>\n",
       "      <td>120</td>\n",
       "      <td>32</td>\n",
       "    </tr>\n",
       "    <tr>\n",
       "      <th>2</th>\n",
       "      <td>Person 3</td>\n",
       "      <td>113</td>\n",
       "      <td>33</td>\n",
       "    </tr>\n",
       "    <tr>\n",
       "      <th>3</th>\n",
       "      <td>Person 4</td>\n",
       "      <td>175</td>\n",
       "      <td>76</td>\n",
       "    </tr>\n",
       "    <tr>\n",
       "      <th>4</th>\n",
       "      <td>Person 5</td>\n",
       "      <td>108</td>\n",
       "      <td>25</td>\n",
       "    </tr>\n",
       "  </tbody>\n",
       "</table>\n",
       "</div>"
      ],
      "text/plain": [
       "    Persons  Height  Weight\n",
       "0  Person 1     167      55\n",
       "1  Person 2     120      32\n",
       "2  Person 3     113      33\n",
       "3  Person 4     175      76\n",
       "4  Person 5     108      25"
      ]
     },
     "execution_count": 19,
     "metadata": {},
     "output_type": "execute_result"
    }
   ],
   "source": [
    "r"
   ]
  },
  {
   "cell_type": "code",
   "execution_count": 21,
   "id": "ae79829c",
   "metadata": {},
   "outputs": [],
   "source": [
    "columns=['Height','Weight']\n",
    "d=r[columns]"
   ]
  },
  {
   "cell_type": "code",
   "execution_count": 22,
   "id": "7bf39791",
   "metadata": {},
   "outputs": [
    {
     "data": {
      "text/html": [
       "<div>\n",
       "<style scoped>\n",
       "    .dataframe tbody tr th:only-of-type {\n",
       "        vertical-align: middle;\n",
       "    }\n",
       "\n",
       "    .dataframe tbody tr th {\n",
       "        vertical-align: top;\n",
       "    }\n",
       "\n",
       "    .dataframe thead th {\n",
       "        text-align: right;\n",
       "    }\n",
       "</style>\n",
       "<table border=\"1\" class=\"dataframe\">\n",
       "  <thead>\n",
       "    <tr style=\"text-align: right;\">\n",
       "      <th></th>\n",
       "      <th>Height</th>\n",
       "      <th>Weight</th>\n",
       "    </tr>\n",
       "  </thead>\n",
       "  <tbody>\n",
       "    <tr>\n",
       "      <th>0</th>\n",
       "      <td>167</td>\n",
       "      <td>55</td>\n",
       "    </tr>\n",
       "    <tr>\n",
       "      <th>1</th>\n",
       "      <td>120</td>\n",
       "      <td>32</td>\n",
       "    </tr>\n",
       "    <tr>\n",
       "      <th>2</th>\n",
       "      <td>113</td>\n",
       "      <td>33</td>\n",
       "    </tr>\n",
       "    <tr>\n",
       "      <th>3</th>\n",
       "      <td>175</td>\n",
       "      <td>76</td>\n",
       "    </tr>\n",
       "    <tr>\n",
       "      <th>4</th>\n",
       "      <td>108</td>\n",
       "      <td>25</td>\n",
       "    </tr>\n",
       "  </tbody>\n",
       "</table>\n",
       "</div>"
      ],
      "text/plain": [
       "   Height  Weight\n",
       "0     167      55\n",
       "1     120      32\n",
       "2     113      33\n",
       "3     175      76\n",
       "4     108      25"
      ]
     },
     "execution_count": 22,
     "metadata": {},
     "output_type": "execute_result"
    }
   ],
   "source": [
    "d"
   ]
  },
  {
   "cell_type": "code",
   "execution_count": 23,
   "id": "bbe38211",
   "metadata": {},
   "outputs": [
    {
     "data": {
      "text/plain": [
       "Text(0, 0.5, 'Weight (W)')"
      ]
     },
     "execution_count": 23,
     "metadata": {},
     "output_type": "execute_result"
    },
    {
     "data": {
      "image/png": "[encoded data removed]",
      "text/plain": [
       "<Figure size 432x288 with 1 Axes>"
      ]
     },
     "metadata": {
      "needs_background": "light"
     },
     "output_type": "display_data"
    }
   ],
   "source": [
    "plt.scatter(data=r, x='Height',y='Weight')\n",
    "plt.title(\"Scatter plot of Height against weight\")\n",
    "plt.xlabel(\"Height (H)\")\n",
    "plt.ylabel(\"Weight (W)\")"
   ]
  },
  {
   "cell_type": "code",
   "execution_count": 25,
   "id": "2757c67f",
   "metadata": {},
   "outputs": [
    {
     "data": {
      "text/plain": [
       "KMeans(n_clusters=2)"
      ]
     },
     "execution_count": 25,
     "metadata": {},
     "output_type": "execute_result"
    }
   ],
   "source": [
    "from sklearn.cluster import KMeans\n",
    "kmean=KMeans(n_clusters=2)\n",
    "kmean.fit(d)"
   ]
  },
  {
   "cell_type": "code",
   "execution_count": 26,
   "id": "81ad76b5",
   "metadata": {},
   "outputs": [
    {
     "data": {
      "text/plain": [
       "array([[171.        ,  65.5       ],\n",
       "       [113.66666667,  30.        ]])"
      ]
     },
     "execution_count": 26,
     "metadata": {},
     "output_type": "execute_result"
    }
   ],
   "source": [
    "kmean.cluster_centers_"
   ]
  },
  {
   "cell_type": "code",
   "execution_count": 31,
   "id": "4b18026b",
   "metadata": {},
   "outputs": [
    {
     "data": {
      "image/png": "[encoded data removed]",
      "text/plain": [
       "<Figure size 432x288 with 1 Axes>"
      ]
     },
     "metadata": {
      "needs_background": "light"
     },
     "output_type": "display_data"
    }
   ],
   "source": [
    "plt.scatter(data=r, x='Height',y='Weight')\n",
    "plt.title(\"Scatter plot of Height against weight and 2 clusters\")\n",
    "plt.xlabel(\"Height (H)\")\n",
    "plt.ylabel(\"Weight (W)\")\n",
    "plt.scatter(171, 65.5, s=200, c='g', marker='s')\n",
    "plt.scatter(113.66666667, 30, s=200, c='r', marker='s')\n",
    "plt.show()"
   ]
  },
  {
   "cell_type": "code",
   "execution_count": null,
   "id": "927f9aa7",
   "metadata": {},
   "outputs": [],
   "source": []
  }
 ],
 "metadata": {
  "kernelspec": {
   "display_name": "Python 3 (ipykernel)",
   "language": "python",
   "name": "python3"
  },
  "language_info": {
   "codemirror_mode": {
    "name": "ipython",
    "version": 3
   },
   "file_extension": ".py",
   "mimetype": "text/x-python",
   "name": "python",
   "nbconvert_exporter": "python",
   "pygments_lexer": "ipython3",
   "version": "3.9.7"
  }
 },
 "nbformat": 4,
 "nbformat_minor": 5
}
